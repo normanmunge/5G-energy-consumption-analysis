{
 "cells": [
  {
   "cell_type": "markdown",
   "id": "7eddebc8-6779-4ce5-81bb-fe3ca54d76db",
   "metadata": {},
   "source": [
    "# 5G ENERGY CONSUMPTION MODEL - Estimating the energy consumption in a 5G Base Station\n",
    "\n",
    "Network operational expenditure (OPEX) already accounts for around 25 percent of the total telecom operator’s cost, and 90 percent of it is spent on large energy bills. More than 70 percent of this energy is estimated to be consumed by the radio access network (RAN), particularly by the base stations (BSs).\n",
    "\n",
    "#### Dataset\n",
    "The dataset was provided by (International Telecommunication Union (ITU))[https://www.itu.int/en/Pages/default.aspx]. It has been derived from the original copy and simplified for learning purposes. It includes cell-level traffic statistics of 4G/5G sites collected on different days.\n",
    "\n",
    "#### Objective & Goal\n",
    "Thus, the objective is to build and train a ML model to *estimate the energy consumed* by different 5G base stations taking into consideration the impact of various *engineering configurations*, *traffic conditions*, and *energy-saving methods*.\n",
    "\n",
    "#### Further Resources\n",
    "To read more on the other objectives: (Read More)[https://challenge.aiforgood.itu.int/match/matchitem/83]"
   ]
  },
  {
   "cell_type": "markdown",
   "id": "4d518db4-012f-4805-b652-a2ec4f19d90e",
   "metadata": {},
   "source": [
    "### Steps to follow\n",
    "1. Import libraries\n",
    "2. Load dataset\n",
    "3. Data wrangling & exploration - statistical analysis, data cleaning, understanding, visualization, checking outliers etc\n",
    "4. Choosing the model\n",
    "5. Feature engineering & selection\n",
    "6. Training model\n",
    "7. Making predictions\n",
    "8. Evaluation of the model\n",
    "9. Improving the model"
   ]
  },
  {
   "cell_type": "markdown",
   "id": "015f527f-9442-4751-989c-6997508046c4",
   "metadata": {},
   "source": [
    "### Step 1: Importing Libraries"
   ]
  },
  {
   "cell_type": "code",
   "execution_count": 1,
   "id": "7487afba-393b-4217-96fb-dcfc22d511d6",
   "metadata": {},
   "outputs": [
    {
     "name": "stderr",
     "output_type": "stream",
     "text": [
      "/Users/munge/.virtual-envs/ml-venv/lib/python3.11/site-packages/tqdm/auto.py:21: TqdmWarning: IProgress not found. Please update jupyter and ipywidgets. See https://ipywidgets.readthedocs.io/en/stable/user_install.html\n",
      "  from .autonotebook import tqdm as notebook_tqdm\n"
     ]
    }
   ],
   "source": [
    "import pandas as pd\n",
    "import numpy as np\n",
    "import matplotlib.pyplot as plt\n",
    "import seaborn as sns\n",
    "from ydata_profiling import ProfileReport\n",
    "from sklearn.metrics import mean_squared_error, r2_score, confusion_matrix\n",
    "#from sklearn.preprocessing import train_test_split"
   ]
  },
  {
   "cell_type": "markdown",
   "id": "6da1de19-d260-4803-a3b7-a9510b76ee5a",
   "metadata": {},
   "source": [
    "### Step 2: Loading & Exploring the dataset"
   ]
  },
  {
   "cell_type": "code",
   "execution_count": 2,
   "id": "82e9c7b7-f507-4e4a-b31e-91faff26f808",
   "metadata": {},
   "outputs": [
    {
     "data": {
      "text/html": [
       "<div>\n",
       "<style scoped>\n",
       "    .dataframe tbody tr th:only-of-type {\n",
       "        vertical-align: middle;\n",
       "    }\n",
       "\n",
       "    .dataframe tbody tr th {\n",
       "        vertical-align: top;\n",
       "    }\n",
       "\n",
       "    .dataframe thead th {\n",
       "        text-align: right;\n",
       "    }\n",
       "</style>\n",
       "<table border=\"1\" class=\"dataframe\">\n",
       "  <thead>\n",
       "    <tr style=\"text-align: right;\">\n",
       "      <th></th>\n",
       "      <th>Time</th>\n",
       "      <th>BS</th>\n",
       "      <th>Energy</th>\n",
       "      <th>load</th>\n",
       "      <th>ESMODE</th>\n",
       "      <th>TXpower</th>\n",
       "    </tr>\n",
       "  </thead>\n",
       "  <tbody>\n",
       "    <tr>\n",
       "      <th>0</th>\n",
       "      <td>20230101 010000</td>\n",
       "      <td>B_0</td>\n",
       "      <td>64.275037</td>\n",
       "      <td>0.487936</td>\n",
       "      <td>0.0</td>\n",
       "      <td>7.101719</td>\n",
       "    </tr>\n",
       "    <tr>\n",
       "      <th>1</th>\n",
       "      <td>20230101 020000</td>\n",
       "      <td>B_0</td>\n",
       "      <td>55.904335</td>\n",
       "      <td>0.344468</td>\n",
       "      <td>0.0</td>\n",
       "      <td>7.101719</td>\n",
       "    </tr>\n",
       "    <tr>\n",
       "      <th>2</th>\n",
       "      <td>20230101 030000</td>\n",
       "      <td>B_0</td>\n",
       "      <td>57.698057</td>\n",
       "      <td>0.193766</td>\n",
       "      <td>0.0</td>\n",
       "      <td>7.101719</td>\n",
       "    </tr>\n",
       "    <tr>\n",
       "      <th>3</th>\n",
       "      <td>20230101 040000</td>\n",
       "      <td>B_0</td>\n",
       "      <td>55.156951</td>\n",
       "      <td>0.222383</td>\n",
       "      <td>0.0</td>\n",
       "      <td>7.101719</td>\n",
       "    </tr>\n",
       "    <tr>\n",
       "      <th>4</th>\n",
       "      <td>20230101 050000</td>\n",
       "      <td>B_0</td>\n",
       "      <td>56.053812</td>\n",
       "      <td>0.175436</td>\n",
       "      <td>0.0</td>\n",
       "      <td>7.101719</td>\n",
       "    </tr>\n",
       "  </tbody>\n",
       "</table>\n",
       "</div>"
      ],
      "text/plain": [
       "              Time   BS     Energy      load  ESMODE   TXpower\n",
       "0  20230101 010000  B_0  64.275037  0.487936     0.0  7.101719\n",
       "1  20230101 020000  B_0  55.904335  0.344468     0.0  7.101719\n",
       "2  20230101 030000  B_0  57.698057  0.193766     0.0  7.101719\n",
       "3  20230101 040000  B_0  55.156951  0.222383     0.0  7.101719\n",
       "4  20230101 050000  B_0  56.053812  0.175436     0.0  7.101719"
      ]
     },
     "execution_count": 2,
     "metadata": {},
     "output_type": "execute_result"
    }
   ],
   "source": [
    "energy_df = pd.read_csv('datasets/5G_energy_consumption_dataset.csv')\n",
    "energy_df.head()"
   ]
  },
  {
   "cell_type": "code",
   "execution_count": 3,
   "id": "0d05709f-b080-4b39-ab8c-3b5536653235",
   "metadata": {},
   "outputs": [],
   "source": [
    "# Transforming the column names to lowercase\n",
    "energy_df.columns = energy_df.columns.str.lower()"
   ]
  },
  {
   "cell_type": "code",
   "execution_count": 15,
   "id": "4cb20215-f62b-43c8-8b64-7a451801fa35",
   "metadata": {},
   "outputs": [
    {
     "data": {
      "text/plain": [
       "(92629, 6)"
      ]
     },
     "execution_count": 15,
     "metadata": {},
     "output_type": "execute_result"
    }
   ],
   "source": [
    "# Checking the shape\n",
    "energy_df.shape"
   ]
  },
  {
   "cell_type": "code",
   "execution_count": 16,
   "id": "e8340a32-53d8-40d0-b39f-a75e87bde1ac",
   "metadata": {},
   "outputs": [
    {
     "name": "stdout",
     "output_type": "stream",
     "text": [
      "<class 'pandas.core.frame.DataFrame'>\n",
      "RangeIndex: 92629 entries, 0 to 92628\n",
      "Data columns (total 6 columns):\n",
      " #   Column   Non-Null Count  Dtype  \n",
      "---  ------   --------------  -----  \n",
      " 0   time     92629 non-null  object \n",
      " 1   bs       92629 non-null  object \n",
      " 2   energy   92629 non-null  float64\n",
      " 3   load     92629 non-null  float64\n",
      " 4   esmode   92629 non-null  float64\n",
      " 5   txpower  92629 non-null  float64\n",
      "dtypes: float64(4), object(2)\n",
      "memory usage: 4.2+ MB\n"
     ]
    }
   ],
   "source": [
    "# General information of the data\n",
    "energy_df.info()"
   ]
  },
  {
   "cell_type": "code",
   "execution_count": 17,
   "id": "271ba3b5-033c-469d-a62a-3d46d78cc324",
   "metadata": {},
   "outputs": [
    {
     "data": {
      "text/plain": [
       "time       0\n",
       "bs         0\n",
       "energy     0\n",
       "load       0\n",
       "esmode     0\n",
       "txpower    0\n",
       "dtype: int64"
      ]
     },
     "execution_count": 17,
     "metadata": {},
     "output_type": "execute_result"
    }
   ],
   "source": [
    "# Check for missing values\n",
    "energy_df.isnull().sum()"
   ]
  },
  {
   "cell_type": "code",
   "execution_count": 18,
   "id": "cd12058f-c5c1-4583-8745-51e1133e9b2c",
   "metadata": {},
   "outputs": [
    {
     "data": {
      "text/plain": [
       "np.int64(0)"
      ]
     },
     "execution_count": 18,
     "metadata": {},
     "output_type": "execute_result"
    }
   ],
   "source": [
    "# Check for duplicates\n",
    "energy_df.duplicated().sum()"
   ]
  },
  {
   "cell_type": "code",
   "execution_count": 19,
   "id": "69e368f6-ebdf-413a-94dc-a25d0f325eae",
   "metadata": {},
   "outputs": [
    {
     "data": {
      "text/html": [
       "<div>\n",
       "<style scoped>\n",
       "    .dataframe tbody tr th:only-of-type {\n",
       "        vertical-align: middle;\n",
       "    }\n",
       "\n",
       "    .dataframe tbody tr th {\n",
       "        vertical-align: top;\n",
       "    }\n",
       "\n",
       "    .dataframe thead th {\n",
       "        text-align: right;\n",
       "    }\n",
       "</style>\n",
       "<table border=\"1\" class=\"dataframe\">\n",
       "  <thead>\n",
       "    <tr style=\"text-align: right;\">\n",
       "      <th></th>\n",
       "      <th>time</th>\n",
       "      <th>bs</th>\n",
       "      <th>energy</th>\n",
       "      <th>load</th>\n",
       "      <th>esmode</th>\n",
       "      <th>txpower</th>\n",
       "    </tr>\n",
       "  </thead>\n",
       "  <tbody>\n",
       "    <tr>\n",
       "      <th>count</th>\n",
       "      <td>92629</td>\n",
       "      <td>92629</td>\n",
       "      <td>92629.000000</td>\n",
       "      <td>92629.000000</td>\n",
       "      <td>92629.000000</td>\n",
       "      <td>92629.000000</td>\n",
       "    </tr>\n",
       "    <tr>\n",
       "      <th>unique</th>\n",
       "      <td>168</td>\n",
       "      <td>923</td>\n",
       "      <td>NaN</td>\n",
       "      <td>NaN</td>\n",
       "      <td>NaN</td>\n",
       "      <td>NaN</td>\n",
       "    </tr>\n",
       "    <tr>\n",
       "      <th>top</th>\n",
       "      <td>20230102 230000</td>\n",
       "      <td>B_583</td>\n",
       "      <td>NaN</td>\n",
       "      <td>NaN</td>\n",
       "      <td>NaN</td>\n",
       "      <td>NaN</td>\n",
       "    </tr>\n",
       "    <tr>\n",
       "      <th>freq</th>\n",
       "      <td>766</td>\n",
       "      <td>130</td>\n",
       "      <td>NaN</td>\n",
       "      <td>NaN</td>\n",
       "      <td>NaN</td>\n",
       "      <td>NaN</td>\n",
       "    </tr>\n",
       "    <tr>\n",
       "      <th>mean</th>\n",
       "      <td>NaN</td>\n",
       "      <td>NaN</td>\n",
       "      <td>28.138997</td>\n",
       "      <td>0.244705</td>\n",
       "      <td>0.081361</td>\n",
       "      <td>6.765427</td>\n",
       "    </tr>\n",
       "    <tr>\n",
       "      <th>std</th>\n",
       "      <td>NaN</td>\n",
       "      <td>NaN</td>\n",
       "      <td>13.934645</td>\n",
       "      <td>0.234677</td>\n",
       "      <td>0.382317</td>\n",
       "      <td>0.309929</td>\n",
       "    </tr>\n",
       "    <tr>\n",
       "      <th>min</th>\n",
       "      <td>NaN</td>\n",
       "      <td>NaN</td>\n",
       "      <td>0.747384</td>\n",
       "      <td>0.000000</td>\n",
       "      <td>0.000000</td>\n",
       "      <td>5.381166</td>\n",
       "    </tr>\n",
       "    <tr>\n",
       "      <th>25%</th>\n",
       "      <td>NaN</td>\n",
       "      <td>NaN</td>\n",
       "      <td>18.236173</td>\n",
       "      <td>0.057370</td>\n",
       "      <td>0.000000</td>\n",
       "      <td>6.427504</td>\n",
       "    </tr>\n",
       "    <tr>\n",
       "      <th>50%</th>\n",
       "      <td>NaN</td>\n",
       "      <td>NaN</td>\n",
       "      <td>24.065770</td>\n",
       "      <td>0.165550</td>\n",
       "      <td>0.000000</td>\n",
       "      <td>6.875934</td>\n",
       "    </tr>\n",
       "    <tr>\n",
       "      <th>75%</th>\n",
       "      <td>NaN</td>\n",
       "      <td>NaN</td>\n",
       "      <td>35.724963</td>\n",
       "      <td>0.363766</td>\n",
       "      <td>0.000000</td>\n",
       "      <td>6.875934</td>\n",
       "    </tr>\n",
       "    <tr>\n",
       "      <th>max</th>\n",
       "      <td>NaN</td>\n",
       "      <td>NaN</td>\n",
       "      <td>100.000000</td>\n",
       "      <td>0.993957</td>\n",
       "      <td>4.000000</td>\n",
       "      <td>8.375336</td>\n",
       "    </tr>\n",
       "  </tbody>\n",
       "</table>\n",
       "</div>"
      ],
      "text/plain": [
       "                   time     bs        energy          load        esmode  \\\n",
       "count             92629  92629  92629.000000  92629.000000  92629.000000   \n",
       "unique              168    923           NaN           NaN           NaN   \n",
       "top     20230102 230000  B_583           NaN           NaN           NaN   \n",
       "freq                766    130           NaN           NaN           NaN   \n",
       "mean                NaN    NaN     28.138997      0.244705      0.081361   \n",
       "std                 NaN    NaN     13.934645      0.234677      0.382317   \n",
       "min                 NaN    NaN      0.747384      0.000000      0.000000   \n",
       "25%                 NaN    NaN     18.236173      0.057370      0.000000   \n",
       "50%                 NaN    NaN     24.065770      0.165550      0.000000   \n",
       "75%                 NaN    NaN     35.724963      0.363766      0.000000   \n",
       "max                 NaN    NaN    100.000000      0.993957      4.000000   \n",
       "\n",
       "             txpower  \n",
       "count   92629.000000  \n",
       "unique           NaN  \n",
       "top              NaN  \n",
       "freq             NaN  \n",
       "mean        6.765427  \n",
       "std         0.309929  \n",
       "min         5.381166  \n",
       "25%         6.427504  \n",
       "50%         6.875934  \n",
       "75%         6.875934  \n",
       "max         8.375336  "
      ]
     },
     "execution_count": 19,
     "metadata": {},
     "output_type": "execute_result"
    }
   ],
   "source": [
    "energy_df.describe(include='all')"
   ]
  },
  {
   "cell_type": "markdown",
   "id": "cefc9fee-4012-465d-b83b-ea1afc9567c3",
   "metadata": {},
   "source": [
    "#### 2.1 High level report\n",
    "\n",
    "1. There are 6 columns in the dataset made up of basic station information, cell-level data, energy consumption data including:\n",
    "    - Time (Date and time in which the measurement was collected) - cell level and energy consumption\n",
    "    - Bs(Name of base station) - basic station info.\n",
    "    - Energy (Energy consumption measurement) - energy consumption data\n",
    "    - Load (Load of the cell) - cell level data\n",
    "    - Esmode (Intensity of the activation of different energy-saving modes. It takes value in [0-1]) - cell level data\n",
    "    - Txpower (Maximum transmit power of the cell. It takes value in [0-1]) - basic station info.\n",
    "  \n",
    "2. The bs & time columns data types are all objects, for training our model we need to encode them.\n",
    "3. There are 92629 rows in the datasets without any duplicates or missing values"
   ]
  },
  {
   "cell_type": "markdown",
   "id": "90086b59-dc87-439f-86ed-7383633bc594",
   "metadata": {},
   "source": [
    "#### 2.2 Generate ydata Profile Report"
   ]
  },
  {
   "cell_type": "code",
   "execution_count": 4,
   "id": "03d66573-4b72-4fab-81b9-24e1051e2a8b",
   "metadata": {},
   "outputs": [],
   "source": [
    "profile = ProfileReport(energy_df, title='5G Base Station Energy Consumption Report')"
   ]
  },
  {
   "cell_type": "code",
   "execution_count": 5,
   "id": "7e36104b-57a5-4262-bee1-ebece3db58ef",
   "metadata": {},
   "outputs": [
    {
     "name": "stderr",
     "output_type": "stream",
     "text": [
      "Summarize dataset: 100%|█████████████| 31/31 [00:03<00:00,  9.26it/s, Completed]\n",
      "Generate report structure: 100%|██████████████████| 1/1 [00:01<00:00,  1.55s/it]\n",
      "Render HTML: 100%|████████████████████████████████| 1/1 [00:00<00:00,  2.77it/s]\n",
      "Export report to file: 100%|████████████████████| 1/1 [00:00<00:00, 1108.43it/s]\n"
     ]
    }
   ],
   "source": [
    "#profile.to_file(output_file='profile-report.html')"
   ]
  },
  {
   "cell_type": "markdown",
   "id": "a45800a1-fc35-4be9-a733-2c2faac0d457",
   "metadata": {},
   "source": [
    "#### 2.3 Feature Engineering"
   ]
  },
  {
   "cell_type": "markdown",
   "id": "bfb4b199-89d2-42fe-8e9e-3daea6e710e6",
   "metadata": {},
   "source": [
    "#### 2.3.1 Transforming date type and splitting into the date and time columns"
   ]
  },
  {
   "cell_type": "code",
   "execution_count": 9,
   "id": "ee9c98c7-3bcf-4c6d-819a-c032aeda8beb",
   "metadata": {},
   "outputs": [
    {
     "data": {
      "text/plain": [
       "dtype('<M8[ns]')"
      ]
     },
     "execution_count": 9,
     "metadata": {},
     "output_type": "execute_result"
    }
   ],
   "source": [
    "# Transforming time datatype\n",
    "energy_df.time = pd.to_datetime(energy_df.time)\n",
    "energy_df.time.dtype"
   ]
  },
  {
   "cell_type": "code",
   "execution_count": 14,
   "id": "05fc6144-e288-45e5-9149-6f2688bdb07a",
   "metadata": {},
   "outputs": [],
   "source": [
    "energy_df['date'] = energy_df.time.dt.date\n",
    "energy_df['date_time'] = energy_df.time\n",
    "energy_df['time'] = energy_df.time.dt.time"
   ]
  },
  {
   "cell_type": "code",
   "execution_count": 15,
   "id": "c1cbdabc-f18c-404e-b675-26ae4710f4ec",
   "metadata": {},
   "outputs": [
    {
     "data": {
      "text/html": [
       "<div>\n",
       "<style scoped>\n",
       "    .dataframe tbody tr th:only-of-type {\n",
       "        vertical-align: middle;\n",
       "    }\n",
       "\n",
       "    .dataframe tbody tr th {\n",
       "        vertical-align: top;\n",
       "    }\n",
       "\n",
       "    .dataframe thead th {\n",
       "        text-align: right;\n",
       "    }\n",
       "</style>\n",
       "<table border=\"1\" class=\"dataframe\">\n",
       "  <thead>\n",
       "    <tr style=\"text-align: right;\">\n",
       "      <th></th>\n",
       "      <th>time</th>\n",
       "      <th>bs</th>\n",
       "      <th>energy</th>\n",
       "      <th>load</th>\n",
       "      <th>esmode</th>\n",
       "      <th>txpower</th>\n",
       "      <th>date</th>\n",
       "      <th>date_time</th>\n",
       "    </tr>\n",
       "  </thead>\n",
       "  <tbody>\n",
       "    <tr>\n",
       "      <th>0</th>\n",
       "      <td>01:00:00</td>\n",
       "      <td>B_0</td>\n",
       "      <td>64.275037</td>\n",
       "      <td>0.487936</td>\n",
       "      <td>0.0</td>\n",
       "      <td>7.101719</td>\n",
       "      <td>2023-01-01</td>\n",
       "      <td>2023-01-01 01:00:00</td>\n",
       "    </tr>\n",
       "    <tr>\n",
       "      <th>1</th>\n",
       "      <td>02:00:00</td>\n",
       "      <td>B_0</td>\n",
       "      <td>55.904335</td>\n",
       "      <td>0.344468</td>\n",
       "      <td>0.0</td>\n",
       "      <td>7.101719</td>\n",
       "      <td>2023-01-01</td>\n",
       "      <td>2023-01-01 02:00:00</td>\n",
       "    </tr>\n",
       "    <tr>\n",
       "      <th>2</th>\n",
       "      <td>03:00:00</td>\n",
       "      <td>B_0</td>\n",
       "      <td>57.698057</td>\n",
       "      <td>0.193766</td>\n",
       "      <td>0.0</td>\n",
       "      <td>7.101719</td>\n",
       "      <td>2023-01-01</td>\n",
       "      <td>2023-01-01 03:00:00</td>\n",
       "    </tr>\n",
       "    <tr>\n",
       "      <th>3</th>\n",
       "      <td>04:00:00</td>\n",
       "      <td>B_0</td>\n",
       "      <td>55.156951</td>\n",
       "      <td>0.222383</td>\n",
       "      <td>0.0</td>\n",
       "      <td>7.101719</td>\n",
       "      <td>2023-01-01</td>\n",
       "      <td>2023-01-01 04:00:00</td>\n",
       "    </tr>\n",
       "    <tr>\n",
       "      <th>4</th>\n",
       "      <td>05:00:00</td>\n",
       "      <td>B_0</td>\n",
       "      <td>56.053812</td>\n",
       "      <td>0.175436</td>\n",
       "      <td>0.0</td>\n",
       "      <td>7.101719</td>\n",
       "      <td>2023-01-01</td>\n",
       "      <td>2023-01-01 05:00:00</td>\n",
       "    </tr>\n",
       "  </tbody>\n",
       "</table>\n",
       "</div>"
      ],
      "text/plain": [
       "       time   bs     energy      load  esmode   txpower        date  \\\n",
       "0  01:00:00  B_0  64.275037  0.487936     0.0  7.101719  2023-01-01   \n",
       "1  02:00:00  B_0  55.904335  0.344468     0.0  7.101719  2023-01-01   \n",
       "2  03:00:00  B_0  57.698057  0.193766     0.0  7.101719  2023-01-01   \n",
       "3  04:00:00  B_0  55.156951  0.222383     0.0  7.101719  2023-01-01   \n",
       "4  05:00:00  B_0  56.053812  0.175436     0.0  7.101719  2023-01-01   \n",
       "\n",
       "            date_time  \n",
       "0 2023-01-01 01:00:00  \n",
       "1 2023-01-01 02:00:00  \n",
       "2 2023-01-01 03:00:00  \n",
       "3 2023-01-01 04:00:00  \n",
       "4 2023-01-01 05:00:00  "
      ]
     },
     "execution_count": 15,
     "metadata": {},
     "output_type": "execute_result"
    }
   ],
   "source": [
    "energy_df.head()"
   ]
  },
  {
   "cell_type": "code",
   "execution_count": null,
   "id": "45272348-3cca-487d-8788-6a9bded402af",
   "metadata": {},
   "outputs": [],
   "source": [
    "# Checking correlations between numerical data\n",
    "plt.figure(figsize=(10,5)\n",
    "columns = ['time, energy, load, esmode, txpower, date']\n",
    "\n",
    "for col in columns:\n",
    "    plt."
   ]
  }
 ],
 "metadata": {
  "kernelspec": {
   "display_name": "Python 3 (ipykernel)",
   "language": "python",
   "name": "python3"
  },
  "language_info": {
   "codemirror_mode": {
    "name": "ipython",
    "version": 3
   },
   "file_extension": ".py",
   "mimetype": "text/x-python",
   "name": "python",
   "nbconvert_exporter": "python",
   "pygments_lexer": "ipython3",
   "version": "3.11.5"
  }
 },
 "nbformat": 4,
 "nbformat_minor": 5
}
